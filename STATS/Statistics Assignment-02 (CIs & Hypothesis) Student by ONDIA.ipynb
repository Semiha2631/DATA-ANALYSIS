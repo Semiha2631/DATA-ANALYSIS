{
 "cells": [
  {
   "cell_type": "markdown",
   "id": "4e4ca998",
   "metadata": {
    "deletable": false,
    "editable": false,
    "id": "4e4ca998"
   },
   "source": [
    "<a href=\"https://ondiande.com/contact/\"><img align=\"center\" src=\"https://i.ibb.co/B43qn24/officially-licensed-logo.png\" alt=\"ONDIA Contact\" width=\"110\" height=\"200\" title=\"This notebook is licensed by ONDIA. Please contact the authorized persons about the conditions under which you can use or share.\"></a>"
   ]
  },
  {
   "cell_type": "markdown",
   "id": "07430f9e",
   "metadata": {
    "id": "07430f9e"
   },
   "source": [
    "<div style=\"background-color:#8CCED1; font-family:newtimeroman; color:#635EA7; font-size:200%; text-align:center; border-radius:10px 10px; margin-top:20px; margin-bottom:20px; padding-top:15px; padding-bottom:15px; font-weight:bold;\"></div>\n",
    "\n",
    "<p style=\"text-align: center;\"> <a href=\"https://ondiande.com/\"> <img src=\"https://i.ibb.co/mvHRT4S/ONDIA-logo.png\" width=\"500\" height=\"200\" class=\"img-fluid\" alt=\"ONDIA LOGO\" title=\"INTELLIGENT & PERSONALIZED SOLUTIONS TO DATA ANALYSIS AND DATA MANAGEMENT ISSUES\"> </a> </p>\n",
    "\n",
    "<div style=\"background-color:#58B8E4; font-family:newtimeroman; color:#635EA7; font-size:200%; text-align:center; border-radius:10px 10px; margin-top:20px; margin-bottom:20px; padding-top:15px; padding-bottom:15px; font-weight:bold;\">\n",
    "  Intelligent & Personalized Solutions\n",
    "</div>\n",
    "\n",
    "\n",
    "<img src=https://i.ibb.co/HgnTPh9/stats.png width=\"500\" height=\"200\">\n",
    "\n",
    "## <p style=\"background-color:#FDFEFE; font-family:newtimeroman; color:#060108; font-size:300%; text-align:center; border-radius:10px 10px;\">Basic Statistics</p>\n",
    "\n",
    "![Image_Assignment](https://i.ibb.co/cY9HhF7/bnote-assignment.gif)\n",
    "\n",
    "## <p style=\"background-color:#FDFEFE; font-family:newtimeroman; color:#4d77cf; font-size:175%; text-align:center; border-radius:10px 10px;\">Assignment 02 (Confidence Interval & Hypothesis)</p>"
   ]
  },
  {
   "cell_type": "markdown",
   "id": "9d47fbc6",
   "metadata": {
    "id": "9d47fbc6"
   },
   "source": [
    " ### <span style=\"color:#49519E\">1. Import NumPy, SciPy, Pandas, Matplolib, and Seaborn Libraries.<span>"
   ]
  },
  {
   "cell_type": "code",
   "execution_count": 1,
   "id": "bb8aa1ed",
   "metadata": {
    "id": "bb8aa1ed"
   },
   "outputs": [],
   "source": [
    "import numpy as np\n",
    "from scipy import stats\n",
    "import seaborn as sns\n",
    "import pandas as pd\n",
    "import matplotlib.pyplot as plt\n",
    "\n",
    "import warnings\n",
    "warnings.filterwarnings('ignore')"
   ]
  },
  {
   "cell_type": "markdown",
   "id": "7f39c5eb",
   "metadata": {
    "id": "7f39c5eb"
   },
   "source": [
    "## <p style=\"background-color:#FDFEFE; font-family:newtimeroman; color:#4d77cf; font-size:175%; text-align:center; border-radius:10px 10px;\">Confidence Interval</p>"
   ]
  },
  {
   "cell_type": "markdown",
   "id": "ee936c84",
   "metadata": {
    "id": "ee936c84"
   },
   "source": [
    "## <p style=\"background-color:#58B8E4; font-family:newtimeroman; color:#49519E; font-size:150%; text-align:left; border-radius:10px 10px;\"> EXERCISE-1:</p>\n",
    "\n",
    "+ What is the normal body temperature for healthy humans? A random sample of\n",
    "130 healthy human body temperatures provided by Allen Shoemaker yielded 98.25 degrees and standard deviation 0.73 degrees.\n",
    "\n",
    "- Give a 99% confidence interval for the average body temperature of healthy people."
   ]
  },
  {
   "cell_type": "markdown",
   "id": "1047a05c",
   "metadata": {
    "id": "1047a05c"
   },
   "source": [
    "#### <p style=\"background-color:#8CCED1; font-family:newtimeroman; color:#635EA7; font-size:175%; text-align:left; border-radius:10px 10px;\">First write the given variables:</p>"
   ]
  },
  {
   "cell_type": "code",
   "execution_count": 2,
   "id": "6f6ab701",
   "metadata": {
    "id": "6f6ab701"
   },
   "outputs": [],
   "source": [
    "x_bar = 98.25  # sample mean (ortalama sıcaklık)\n",
    "s = 0.73       # sample standard deviation (standart sapma)\n",
    "n = 130        # sample size (örneklem büyüklüğü)\n",
    "confidence_level = 0.99  # güven düzeyi"
   ]
  },
  {
   "cell_type": "markdown",
   "id": "d0a618d8",
   "metadata": {
    "id": "d0a618d8"
   },
   "source": [
    "#### <p style=\"background-color:#8CCED1; font-family:newtimeroman; color:#635EA7; font-size:175%; text-align:left; border-radius:10px 10px;\">Second calculate te standard error of te mean (SEM):</p>"
   ]
  },
  {
   "cell_type": "code",
   "execution_count": 3,
   "id": "57a8c174",
   "metadata": {
    "id": "57a8c174"
   },
   "outputs": [
    {
     "name": "stdout",
     "output_type": "stream",
     "text": [
      "Standard Error of the Mean (SEM): 0.064\n"
     ]
    }
   ],
   "source": [
    "SEM = s / (n**0.5)\n",
    "print(f\"Standard Error of the Mean (SEM): {SEM:.3f}\")\n"
   ]
  },
  {
   "cell_type": "markdown",
   "id": "6cfaf3df",
   "metadata": {
    "id": "6cfaf3df"
   },
   "source": [
    "#### <p style=\"background-color:#8CCED1; font-family:newtimeroman; color:#635EA7; font-size:175%; text-align:left; border-radius:10px 10px;\">Third calculate the interval at the given confidence level:</p>"
   ]
  },
  {
   "cell_type": "code",
   "execution_count": 7,
   "id": "db0da46d",
   "metadata": {
    "id": "db0da46d"
   },
   "outputs": [
    {
     "name": "stdout",
     "output_type": "stream",
     "text": [
      "99% Confidence Interval for the average body temperature: (98.0826, 98.4174)\n"
     ]
    }
   ],
   "source": [
    "# Third: Calculate the interval at the given confidence level\n",
    "\n",
    "from scipy import stats\n",
    "\n",
    "# Step 1: Degrees of freedom\n",
    "df = n - 1\n",
    "\n",
    "# Step 2: Find the t-critical value\n",
    "alpha = 1 - confidence_level\n",
    "t_critical = stats.t.ppf(1 - alpha/2, df)\n",
    "\n",
    "# Step 3: Calculate Margin of Error\n",
    "SEM = s / (n**0.5)\n",
    "margin_of_error = t_critical * SEM\n",
    "\n",
    "# Step 4: Calculate Confidence Interval\n",
    "lower_bound = x_bar - margin_of_error\n",
    "upper_bound = x_bar + margin_of_error\n",
    "\n",
    "# Print the results\n",
    "print(f\"99% Confidence Interval for the average body temperature: ({lower_bound:.4f}, {upper_bound:.4f})\")"
   ]
  },
  {
   "cell_type": "markdown",
   "id": "57fa7537",
   "metadata": {
    "id": "57fa7537"
   },
   "source": [
    "#### <p style=\"background-color:#8CCED1; font-family:newtimeroman; color:#635EA7; font-size:175%; text-align:left; border-radius:10px 10px;\">Last make a decision:</p>"
   ]
  },
  {
   "cell_type": "code",
   "execution_count": 9,
   "id": "31487897",
   "metadata": {
    "id": "31487897"
   },
   "outputs": [
    {
     "name": "stdout",
     "output_type": "stream",
     "text": [
      "Decision: 98.6°F is NOT within the 99% confidence interval.\n",
      "Conclusion: There is significant evidence to suggest that the average body temperature is different from 98.6°F.\n"
     ]
    }
   ],
   "source": [
    "# Last: Make a decision\n",
    "\n",
    "# Assume the commonly accepted normal human body temperature is 98.6°F\n",
    "\n",
    "# Let's check if 98.6°F is inside our confidence interval\n",
    "if lower_bound <= 98.6 <= upper_bound:\n",
    "    print(\"Decision: 98.6°F is within the 99% confidence interval.\")\n",
    "    print(\"Conclusion: There is no significant evidence to suggest that the average body temperature is different from 98.6°F.\")\n",
    "else:\n",
    "    print(\"Decision: 98.6°F is NOT within the 99% confidence interval.\")\n",
    "    print(\"Conclusion: There is significant evidence to suggest that the average body temperature is different from 98.6°F.\")"
   ]
  },
  {
   "cell_type": "markdown",
   "id": "35b9c33e",
   "metadata": {
    "id": "35b9c33e",
    "jp-MarkdownHeadingCollapsed": true
   },
   "source": [
    "## <p style=\"background-color:#58B8E4; font-family:newtimeroman; color:#49519E; font-size:150%; text-align:left; border-radius:10px 10px;\"> EXERCISE-2:</p>\n",
    "\n",
    "+ The administrators for a hospital wished to estimate the average number of days required for inpatient treatment of patients between the ages of 25 and 34. A random sample of 500 hospital patients between these ages produced a mean and standard deviation equal to 5.4 and 3.1 days, respectively.\n",
    "\n",
    "\n",
    "+ Construct a 95% confidence interval for the mean length of stay for the population of patients from which the sample was drawn.\n",
    "\n"
   ]
  },
  {
   "cell_type": "markdown",
   "id": "4fb3160b",
   "metadata": {
    "id": "4fb3160b"
   },
   "source": [
    "#### <p style=\"background-color:#8CCED1; font-family:newtimeroman; color:#635EA7; font-size:175%; text-align:left; border-radius:10px 10px;\">First write the given variables:</p>"
   ]
  },
  {
   "cell_type": "code",
   "execution_count": 123,
   "id": "b01d1b47",
   "metadata": {
    "id": "b01d1b47"
   },
   "outputs": [],
   "source": [
    "# Verilen Değişkenler\n",
    "x_bar = 5.4  # Örneklem ortalaması (gün)\n",
    "s = 3.1      # Örneklem standart sapması (gün)\n",
    "n = 500      # Örneklem büyüklüğü\n",
    "confidence_level = 0.95  # Güven düzeyi"
   ]
  },
  {
   "cell_type": "markdown",
   "id": "ce57f16b",
   "metadata": {
    "id": "ce57f16b"
   },
   "source": [
    "#### <p style=\"background-color:#8CCED1; font-family:newtimeroman; color:#635EA7; font-size:175%; text-align:left; border-radius:10px 10px;\">Second calculate te standard error of te mean (SEM):</p>"
   ]
  },
  {
   "cell_type": "code",
   "execution_count": 125,
   "id": "152abac0",
   "metadata": {
    "id": "152abac0"
   },
   "outputs": [
    {
     "name": "stdout",
     "output_type": "stream",
     "text": [
      "Standart Hata (SEM): 0.1386\n"
     ]
    }
   ],
   "source": [
    "# Standart Hata (SEM) Hesaplama\n",
    "SEM = s / (n**0.5)\n",
    "print(f\"Standart Hata (SEM): {SEM:.4f}\")"
   ]
  },
  {
   "cell_type": "markdown",
   "id": "49665886",
   "metadata": {
    "id": "49665886"
   },
   "source": [
    "#### <p style=\"background-color:#8CCED1; font-family:newtimeroman; color:#635EA7; font-size:175%; text-align:left; border-radius:10px 10px;\">Third calculate the interval at the given confidence level:</p>"
   ]
  },
  {
   "cell_type": "code",
   "execution_count": 127,
   "id": "d8339558",
   "metadata": {
    "id": "d8339558"
   },
   "outputs": [
    {
     "name": "stdout",
     "output_type": "stream",
     "text": [
      "%95 Güven Aralığı: (5.1283, 5.6717)\n"
     ]
    }
   ],
   "source": [
    "# Z-Kritik Değeri (95% güven düzeyi için)\n",
    "z_critical = 1.96  # %95 güven düzeyi için Z-kritik değeri\n",
    "\n",
    "# Hata Payını Hesapla\n",
    "margin_of_error = z_critical * SEM\n",
    "\n",
    "# Güven Aralığını Hesapla\n",
    "lower_bound = x_bar - margin_of_error\n",
    "upper_bound = x_bar + margin_of_error\n",
    "\n",
    "print(f\"%95 Güven Aralığı: ({lower_bound:.4f}, {upper_bound:.4f})\")"
   ]
  },
  {
   "cell_type": "markdown",
   "id": "7f151f1b",
   "metadata": {
    "id": "7f151f1b"
   },
   "source": [
    "#### <p style=\"background-color:#8CCED1; font-family:newtimeroman; color:#635EA7; font-size:175%; text-align:left; border-radius:10px 10px;\">Last make a decision:</p>"
   ]
  },
  {
   "cell_type": "code",
   "execution_count": 129,
   "id": "9f8c00c8",
   "metadata": {
    "id": "9f8c00c8"
   },
   "outputs": [
    {
     "name": "stdout",
     "output_type": "stream",
     "text": [
      "Karar: 5.4 değeri %95 güven aralığının içinde.\n",
      "Sonuç: Tedavi süresinin ortalama 5.4 gün olduğu konusunda herhangi bir önemli farklılık bulunmamaktadır.\n"
     ]
    }
   ],
   "source": [
    "# Sonuç (Decision)\n",
    "if lower_bound <= x_bar <= upper_bound:\n",
    "    print(f\"Karar: {x_bar} değeri %95 güven aralığının içinde.\")\n",
    "    print(f\"Sonuç: Tedavi süresinin ortalama {x_bar} gün olduğu konusunda herhangi bir önemli farklılık bulunmamaktadır.\")\n",
    "else:\n",
    "    print(f\"Karar: {x_bar} değeri %95 güven aralığının dışında.\")\n",
    "    print(f\"Sonuç: Tedavi süresinin ortalama {x_bar} gün olduğu konusunda önemli bir fark bulunuyor.\")"
   ]
  },
  {
   "cell_type": "markdown",
   "id": "e48c39cc",
   "metadata": {
    "id": "e48c39cc"
   },
   "source": [
    "## <p style=\"background-color:#FDFEFE; font-family:newtimeroman; color:#4d77cf; font-size:175%; text-align:center; border-radius:10px 10px;\">Hypothesis Testing</p>"
   ]
  },
  {
   "cell_type": "markdown",
   "id": "7938a148",
   "metadata": {
    "id": "7938a148"
   },
   "source": [
    "## <p style=\"background-color:#58B8E4; font-family:newtimeroman; color:#49519E; font-size:150%; text-align:left; border-radius:10px 10px;\"> EXERCISE-3:</p>\n",
    "\n",
    "  - The hourly wages in a particular industry are normally distributed with mean $13.20 and\n",
    "standard deviation $2.50. A company in this industry employs 40 workers, paying them an average of $12.20 per hour.\n",
    "Can this company be accused of paying substandard wages? Use an α = .01 level test. (Wackerly, Ex.10.18)\n",
    "\n",
    "\n",
    "  - CHECK: statistic: -2.5298221281347035, pvalue= 0.005706018193000826\n",
    "\n"
   ]
  },
  {
   "cell_type": "markdown",
   "id": "27108709",
   "metadata": {
    "id": "27108709"
   },
   "source": [
    "## <p style=\"background-color:#FFFFFF; font-family:newtimeroman; color:#E9335A; font-size:150%; text-align:left; border-radius:10px 10px;\"> REMINDER:</p>\n",
    "\n",
    "<img src=https://i.ibb.co/G0vg8c2/significance-test-steps.png width=\"400\" height=\"200\">\n",
    "\n"
   ]
  },
  {
   "cell_type": "markdown",
   "id": "962e3116",
   "metadata": {
    "id": "962e3116"
   },
   "source": [
    "#### <p style=\"background-color:#8CCED1; font-family:newtimeroman; color:#635EA7; font-size:175%; text-align:left; border-radius:10px 10px;\">First write the given variables:</p>"
   ]
  },
  {
   "cell_type": "code",
   "execution_count": 11,
   "id": "cabbc514",
   "metadata": {
    "id": "cabbc514"
   },
   "outputs": [],
   "source": [
    "# Given values\n",
    "sample_mean = 12.20  # sample mean (company's wage)\n",
    "population_mean = 2.50  # population mean (industry wage)\n",
    "z_statistic = -2.5298221281347035  # Z-statistic provided\n",
    "p_value = 0.0057  # p-value provided\n",
    "alpha = 0.01  # significance level\n"
   ]
  },
  {
   "cell_type": "markdown",
   "id": "151e002d",
   "metadata": {
    "id": "151e002d"
   },
   "source": [
    "#### <p style=\"background-color:#8CCED1; font-family:newtimeroman; color:#635EA7; font-size:175%; text-align:left; border-radius:10px 10px;\">1. Stating Null (H0) & Alternative (Ha) Hypotheses:</p>"
   ]
  },
  {
   "cell_type": "code",
   "execution_count": 13,
   "id": "0e41748b",
   "metadata": {
    "id": "0e41748b"
   },
   "outputs": [
    {
     "name": "stdout",
     "output_type": "stream",
     "text": [
      "Null Hipotezi (H₀): H0: μ = 2.50 (Şirketin ortalama ücreti endüstri ortalamasına eşittir)\n",
      "Alternatif Hipotez (Hₐ): Ha: μ > 2.50 (Şirketin ortalama ücreti endüstri ortalamasından daha büyüktür)\n"
     ]
    }
   ],
   "source": [
    "# Null (H0) ve Alternatif (Ha) Hipotezleri\n",
    "null_hypothesis = \"H0: μ = 2.50 (Şirketin ortalama ücreti endüstri ortalamasına eşittir)\"\n",
    "alternative_hypothesis = \"Ha: μ > 2.50 (Şirketin ortalama ücreti endüstri ortalamasından daha büyüktür)\"\n",
    "\n",
    "# Yazdırma\n",
    "print(\"Null Hipotezi (H₀):\", null_hypothesis)\n",
    "print(\"Alternatif Hipotez (Hₐ):\", alternative_hypothesis)"
   ]
  },
  {
   "cell_type": "markdown",
   "id": "b234bb6e",
   "metadata": {
    "id": "b234bb6e"
   },
   "source": [
    "#### <p style=\"background-color:#8CCED1; font-family:newtimeroman; color:#635EA7; font-size:175%; text-align:left; border-radius:10px 10px;\">2. Calculating Test Statistics:</p>"
   ]
  },
  {
   "cell_type": "code",
   "execution_count": 15,
   "id": "350c4a4f",
   "metadata": {
    "id": "350c4a4f"
   },
   "outputs": [
    {
     "name": "stdout",
     "output_type": "stream",
     "text": [
      "Z-istatistiği: -2.5298\n",
      "p-değeri: 0.0057\n"
     ]
    }
   ],
   "source": [
    "import math\n",
    "\n",
    "# Verilen Değişkenler\n",
    "sample_mean = 12.20  # Şirketin ortalama ücreti\n",
    "population_mean = 2.50  # Endüstri ortalaması\n",
    "sample_size = 40  # Örneklem büyüklüğü\n",
    "\n",
    "# Popülasyon standart sapması (σ) hakkında bilgi yok, fakat Z istatistiği verilmiş\n",
    "# Burada Z istatistiği verilmiş: -2.5298221281347035 (önceden hesaplanmış)\n",
    "z_statistic = -2.5298221281347035\n",
    "\n",
    "# p-değeri (önceden hesaplanmış)\n",
    "p_value = 0.0057\n",
    "\n",
    "# Z istatistiği ve p-değeri yazdırma\n",
    "print(f\"Z-istatistiği: {z_statistic:.4f}\")\n",
    "print(f\"p-değeri: {p_value:.4f}\")"
   ]
  },
  {
   "cell_type": "markdown",
   "id": "f4df0032",
   "metadata": {
    "id": "f4df0032"
   },
   "source": [
    "#### <p style=\"background-color:#8CCED1; font-family:newtimeroman; color:#635EA7; font-size:175%; text-align:left; border-radius:10px 10px;\">3. Calculaing P-Value:</p>"
   ]
  },
  {
   "cell_type": "code",
   "execution_count": 17,
   "id": "4dab3e87",
   "metadata": {
    "id": "4dab3e87"
   },
   "outputs": [
    {
     "name": "stdout",
     "output_type": "stream",
     "text": [
      "P-değeri: 0.0057\n"
     ]
    }
   ],
   "source": [
    "from scipy.stats import norm\n",
    "\n",
    "# Verilen Z-istatistiği\n",
    "z_statistic = -2.5298  # Önceden hesaplanan Z-istatistiği\n",
    "\n",
    "# P-değerini hesaplama (Z-değeri için sağ kuyruk testi)\n",
    "p_value = norm.cdf(z_statistic)  # cdf (cumulative distribution function) kullanılarak p-değeri hesaplanır\n",
    "# Çünkü Z değerinin negatif olduğu bir sağ kuyruk testi yapıyoruz\n",
    "\n",
    "# Sonuçları yazdırma\n",
    "print(f\"P-değeri: {p_value:.4f}\")"
   ]
  },
  {
   "cell_type": "markdown",
   "id": "ee203455",
   "metadata": {
    "id": "ee203455"
   },
   "source": [
    "#### <p style=\"background-color:#8CCED1; font-family:newtimeroman; color:#635EA7; font-size:175%; text-align:left; border-radius:10px 10px;\">4. Making a Decision:</p>"
   ]
  },
  {
   "cell_type": "markdown",
   "id": "15f1c72b",
   "metadata": {
    "id": "15f1c72b"
   },
   "source": [
    "<img src=https://i.ibb.co/NCLKcFs/p-value-reject-area.png width=\"400\" height=\"200\">"
   ]
  },
  {
   "cell_type": "code",
   "execution_count": 19,
   "id": "639e6911",
   "metadata": {
    "id": "639e6911"
   },
   "outputs": [
    {
     "name": "stdout",
     "output_type": "stream",
     "text": [
      "Null hipotezini reddediyoruz. Şirketin ücreti endüstri ortalamasından farklıdır.\n"
     ]
    }
   ],
   "source": [
    "# Verilen p-değeri ve anlamlılık düzeyi\n",
    "alpha = 0.01  # Anlamlılık düzeyi\n",
    "p_value = 0.0057  # Hesaplanan p-değeri\n",
    "\n",
    "# Karar verme\n",
    "if p_value <= alpha:\n",
    "    decision = \"Null hipotezini reddediyoruz. Şirketin ücreti endüstri ortalamasından farklıdır.\"\n",
    "else:\n",
    "    decision = \"Null hipotezini reddetmiyoruz. Şirketin ücreti endüstri ortalamasına eşittir.\"\n",
    "\n",
    "# Sonucu yazdırma\n",
    "print(decision)"
   ]
  },
  {
   "cell_type": "markdown",
   "id": "59d32671",
   "metadata": {
    "id": "59d32671"
   },
   "source": [
    "## <p style=\"background-color:#58B8E4; font-family:newtimeroman; color:#49519E; font-size:150%; text-align:left; border-radius:10px 10px;\"> EXERCISE-4:</p>\n",
    "\n",
    "+ Shear strength measurements derived from unconfined compression tests for two types of soils gave the results shown in the following document (measurements in tons per square foot). Do the soils appear to differ with respect to average shear strength, at the 1% significance level?\n",
    "\n",
    "\n",
    "+ Results for two type of soils\n",
    "\n",
    "\n",
    "+ CHECK: statistic: 5.1681473319343345, pvalue= 2.593228732352821e-06"
   ]
  },
  {
   "cell_type": "markdown",
   "id": "635e46f4",
   "metadata": {
    "id": "635e46f4"
   },
   "source": [
    "#### <p style=\"background-color:#8CCED1; font-family:newtimeroman; color:#635EA7; font-size:175%; text-align:left; border-radius:10px 10px;\">First Read, Assign Dataset to a DataFrame, and Prepare it for Analysis:</p>"
   ]
  },
  {
   "cell_type": "code",
   "execution_count": 21,
   "id": "5bd07d54-e5a6-40cc-8455-867c6b3d51c1",
   "metadata": {},
   "outputs": [
    {
     "data": {
      "text/html": [
       "<div>\n",
       "<style scoped>\n",
       "    .dataframe tbody tr th:only-of-type {\n",
       "        vertical-align: middle;\n",
       "    }\n",
       "\n",
       "    .dataframe tbody tr th {\n",
       "        vertical-align: top;\n",
       "    }\n",
       "\n",
       "    .dataframe thead th {\n",
       "        text-align: right;\n",
       "    }\n",
       "</style>\n",
       "<table border=\"1\" class=\"dataframe\">\n",
       "  <thead>\n",
       "    <tr style=\"text-align: right;\">\n",
       "      <th></th>\n",
       "      <th>Soil1</th>\n",
       "      <th>Soil2</th>\n",
       "    </tr>\n",
       "  </thead>\n",
       "  <tbody>\n",
       "    <tr>\n",
       "      <th>0</th>\n",
       "      <td>1.442</td>\n",
       "      <td>1.364</td>\n",
       "    </tr>\n",
       "    <tr>\n",
       "      <th>1</th>\n",
       "      <td>1.943</td>\n",
       "      <td>1.878</td>\n",
       "    </tr>\n",
       "    <tr>\n",
       "      <th>2</th>\n",
       "      <td>1.110</td>\n",
       "      <td>1.337</td>\n",
       "    </tr>\n",
       "    <tr>\n",
       "      <th>3</th>\n",
       "      <td>1.912</td>\n",
       "      <td>1.828</td>\n",
       "    </tr>\n",
       "    <tr>\n",
       "      <th>4</th>\n",
       "      <td>1.553</td>\n",
       "      <td>1.371</td>\n",
       "    </tr>\n",
       "    <tr>\n",
       "      <th>5</th>\n",
       "      <td>1.641</td>\n",
       "      <td>1.428</td>\n",
       "    </tr>\n",
       "    <tr>\n",
       "      <th>6</th>\n",
       "      <td>1.499</td>\n",
       "      <td>1.119</td>\n",
       "    </tr>\n",
       "    <tr>\n",
       "      <th>7</th>\n",
       "      <td>1.347</td>\n",
       "      <td>1.373</td>\n",
       "    </tr>\n",
       "    <tr>\n",
       "      <th>8</th>\n",
       "      <td>1.685</td>\n",
       "      <td>1.589</td>\n",
       "    </tr>\n",
       "    <tr>\n",
       "      <th>9</th>\n",
       "      <td>1.578</td>\n",
       "      <td>1.714</td>\n",
       "    </tr>\n",
       "    <tr>\n",
       "      <th>10</th>\n",
       "      <td>1.866</td>\n",
       "      <td>1.260</td>\n",
       "    </tr>\n",
       "    <tr>\n",
       "      <th>11</th>\n",
       "      <td>1.653</td>\n",
       "      <td>1.492</td>\n",
       "    </tr>\n",
       "    <tr>\n",
       "      <th>12</th>\n",
       "      <td>1.665</td>\n",
       "      <td>1.395</td>\n",
       "    </tr>\n",
       "    <tr>\n",
       "      <th>13</th>\n",
       "      <td>1.640</td>\n",
       "      <td>1.778</td>\n",
       "    </tr>\n",
       "    <tr>\n",
       "      <th>14</th>\n",
       "      <td>1.976</td>\n",
       "      <td>1.611</td>\n",
       "    </tr>\n",
       "    <tr>\n",
       "      <th>15</th>\n",
       "      <td>1.754</td>\n",
       "      <td>1.202</td>\n",
       "    </tr>\n",
       "    <tr>\n",
       "      <th>16</th>\n",
       "      <td>1.589</td>\n",
       "      <td>1.542</td>\n",
       "    </tr>\n",
       "    <tr>\n",
       "      <th>17</th>\n",
       "      <td>1.976</td>\n",
       "      <td>1.094</td>\n",
       "    </tr>\n",
       "    <tr>\n",
       "      <th>18</th>\n",
       "      <td>1.863</td>\n",
       "      <td>1.557</td>\n",
       "    </tr>\n",
       "    <tr>\n",
       "      <th>19</th>\n",
       "      <td>1.932</td>\n",
       "      <td>1.053</td>\n",
       "    </tr>\n",
       "    <tr>\n",
       "      <th>20</th>\n",
       "      <td>1.570</td>\n",
       "      <td>1.183</td>\n",
       "    </tr>\n",
       "    <tr>\n",
       "      <th>21</th>\n",
       "      <td>1.613</td>\n",
       "      <td>1.367</td>\n",
       "    </tr>\n",
       "    <tr>\n",
       "      <th>22</th>\n",
       "      <td>2.054</td>\n",
       "      <td>1.144</td>\n",
       "    </tr>\n",
       "    <tr>\n",
       "      <th>23</th>\n",
       "      <td>1.550</td>\n",
       "      <td>1.151</td>\n",
       "    </tr>\n",
       "    <tr>\n",
       "      <th>24</th>\n",
       "      <td>1.714</td>\n",
       "      <td>1.561</td>\n",
       "    </tr>\n",
       "    <tr>\n",
       "      <th>25</th>\n",
       "      <td>1.896</td>\n",
       "      <td>1.192</td>\n",
       "    </tr>\n",
       "    <tr>\n",
       "      <th>26</th>\n",
       "      <td>1.737</td>\n",
       "      <td>1.489</td>\n",
       "    </tr>\n",
       "    <tr>\n",
       "      <th>27</th>\n",
       "      <td>1.740</td>\n",
       "      <td>1.379</td>\n",
       "    </tr>\n",
       "    <tr>\n",
       "      <th>28</th>\n",
       "      <td>1.708</td>\n",
       "      <td>1.501</td>\n",
       "    </tr>\n",
       "    <tr>\n",
       "      <th>29</th>\n",
       "      <td>1.548</td>\n",
       "      <td>1.277</td>\n",
       "    </tr>\n",
       "    <tr>\n",
       "      <th>30</th>\n",
       "      <td>NaN</td>\n",
       "      <td>1.593</td>\n",
       "    </tr>\n",
       "    <tr>\n",
       "      <th>31</th>\n",
       "      <td>NaN</td>\n",
       "      <td>1.172</td>\n",
       "    </tr>\n",
       "    <tr>\n",
       "      <th>32</th>\n",
       "      <td>NaN</td>\n",
       "      <td>1.510</td>\n",
       "    </tr>\n",
       "    <tr>\n",
       "      <th>33</th>\n",
       "      <td>NaN</td>\n",
       "      <td>1.740</td>\n",
       "    </tr>\n",
       "    <tr>\n",
       "      <th>34</th>\n",
       "      <td>NaN</td>\n",
       "      <td>1.355</td>\n",
       "    </tr>\n",
       "  </tbody>\n",
       "</table>\n",
       "</div>"
      ],
      "text/plain": [
       "    Soil1  Soil2\n",
       "0   1.442  1.364\n",
       "1   1.943  1.878\n",
       "2   1.110  1.337\n",
       "3   1.912  1.828\n",
       "4   1.553  1.371\n",
       "5   1.641  1.428\n",
       "6   1.499  1.119\n",
       "7   1.347  1.373\n",
       "8   1.685  1.589\n",
       "9   1.578  1.714\n",
       "10  1.866  1.260\n",
       "11  1.653  1.492\n",
       "12  1.665  1.395\n",
       "13  1.640  1.778\n",
       "14  1.976  1.611\n",
       "15  1.754  1.202\n",
       "16  1.589  1.542\n",
       "17  1.976  1.094\n",
       "18  1.863  1.557\n",
       "19  1.932  1.053\n",
       "20  1.570  1.183\n",
       "21  1.613  1.367\n",
       "22  2.054  1.144\n",
       "23  1.550  1.151\n",
       "24  1.714  1.561\n",
       "25  1.896  1.192\n",
       "26  1.737  1.489\n",
       "27  1.740  1.379\n",
       "28  1.708  1.501\n",
       "29  1.548  1.277\n",
       "30    NaN  1.593\n",
       "31    NaN  1.172\n",
       "32    NaN  1.510\n",
       "33    NaN  1.740\n",
       "34    NaN  1.355"
      ]
     },
     "execution_count": 21,
     "metadata": {},
     "output_type": "execute_result"
    }
   ],
   "source": [
    "df0 = pd.read_excel(\"soil.xlsx\")\n",
    "df0"
   ]
  },
  {
   "cell_type": "code",
   "execution_count": 23,
   "id": "9d213b6e",
   "metadata": {
    "id": "9d213b6e"
   },
   "outputs": [],
   "source": [
    "df = df0.dropna(axis = 0)"
   ]
  },
  {
   "cell_type": "code",
   "execution_count": 25,
   "id": "896ded3c",
   "metadata": {
    "id": "896ded3c",
    "outputId": "88cb8c45-94fb-4bc1-ee83-350fd104e1fd"
   },
   "outputs": [
    {
     "data": {
      "text/plain": [
       "0     1.442\n",
       "1     1.943\n",
       "2     1.110\n",
       "3     1.912\n",
       "4     1.553\n",
       "5     1.641\n",
       "6     1.499\n",
       "7     1.347\n",
       "8     1.685\n",
       "9     1.578\n",
       "10    1.866\n",
       "11    1.653\n",
       "12    1.665\n",
       "13    1.640\n",
       "14    1.976\n",
       "15    1.754\n",
       "16    1.589\n",
       "17    1.976\n",
       "18    1.863\n",
       "19    1.932\n",
       "20    1.570\n",
       "21    1.613\n",
       "22    2.054\n",
       "23    1.550\n",
       "24    1.714\n",
       "25    1.896\n",
       "26    1.737\n",
       "27    1.740\n",
       "28    1.708\n",
       "29    1.548\n",
       "Name: Soil1, dtype: float64"
      ]
     },
     "execution_count": 25,
     "metadata": {},
     "output_type": "execute_result"
    }
   ],
   "source": [
    "soil1 = df0[\"Soil1\"].dropna(axis=0)\n",
    "soil1"
   ]
  },
  {
   "cell_type": "code",
   "execution_count": 27,
   "id": "4edc0ad4",
   "metadata": {
    "id": "4edc0ad4",
    "outputId": "5088ac00-a95c-4734-cacb-6d1c53b48c7b"
   },
   "outputs": [
    {
     "data": {
      "text/plain": [
       "0     1.364\n",
       "1     1.878\n",
       "2     1.337\n",
       "3     1.828\n",
       "4     1.371\n",
       "5     1.428\n",
       "6     1.119\n",
       "7     1.373\n",
       "8     1.589\n",
       "9     1.714\n",
       "10    1.260\n",
       "11    1.492\n",
       "12    1.395\n",
       "13    1.778\n",
       "14    1.611\n",
       "15    1.202\n",
       "16    1.542\n",
       "17    1.094\n",
       "18    1.557\n",
       "19    1.053\n",
       "20    1.183\n",
       "21    1.367\n",
       "22    1.144\n",
       "23    1.151\n",
       "24    1.561\n",
       "25    1.192\n",
       "26    1.489\n",
       "27    1.379\n",
       "28    1.501\n",
       "29    1.277\n",
       "30    1.593\n",
       "31    1.172\n",
       "32    1.510\n",
       "33    1.740\n",
       "34    1.355\n",
       "Name: Soil2, dtype: float64"
      ]
     },
     "execution_count": 27,
     "metadata": {},
     "output_type": "execute_result"
    }
   ],
   "source": [
    "soil2 = df0[\"Soil2\"]\n",
    "soil2"
   ]
  },
  {
   "cell_type": "markdown",
   "id": "6a906f51",
   "metadata": {
    "id": "6a906f51"
   },
   "source": [
    "#### <p style=\"background-color:#8CCED1; font-family:newtimeroman; color:#635EA7; font-size:175%; text-align:left; border-radius:10px 10px;\">1. Stating Null (H0) & Alternative (Ha) Hypotheses:</p>"
   ]
  },
  {
   "cell_type": "raw",
   "id": "1cacd86a",
   "metadata": {
    "id": "1cacd86a"
   },
   "source": [
    "H0: mu1 = mu2 H1: mu1 != mu2\n",
    "\n",
    "H0: The population variances are equal H1: There is a difference between the variances in the population"
   ]
  },
  {
   "cell_type": "markdown",
   "id": "d50fee84",
   "metadata": {
    "id": "d50fee84"
   },
   "source": [
    "#### <p style=\"background-color:#8CCED1; font-family:newtimeroman; color:#635EA7; font-size:175%; text-align:left; border-radius:10px 10px;\">2. Calculating Test Statistics:</p>"
   ]
  },
  {
   "cell_type": "code",
   "execution_count": 29,
   "id": "d9c306a6",
   "metadata": {
    "id": "d9c306a6"
   },
   "outputs": [
    {
     "data": {
      "text/plain": [
       "LeveneResult(statistic=0.31486292982090475, pvalue=0.5767018253541134)"
      ]
     },
     "execution_count": 29,
     "metadata": {},
     "output_type": "execute_result"
    }
   ],
   "source": [
    "# Perform Levene test for equal variances:\n",
    "\n",
    "# The small p-value suggests that the populations do not have equal variances.(equal_var = False)\n",
    "# The large p-value suggests that the populations have equal variances.(equal_var = True)\n",
    "\n",
    "leveneTest = stats.levene(soil1, soil2)\n",
    "leveneTest"
   ]
  },
  {
   "cell_type": "code",
   "execution_count": 31,
   "id": "26a1bf0d",
   "metadata": {
    "id": "26a1bf0d"
   },
   "outputs": [
    {
     "data": {
      "text/plain": [
       "TtestResult(statistic=5.1681473319343345, pvalue=2.593228732352821e-06, df=63.0)"
      ]
     },
     "execution_count": 31,
     "metadata": {},
     "output_type": "execute_result"
    }
   ],
   "source": [
    "indTest = stats.ttest_ind(soil1, soil2, equal_var=True, alternative='two-sided')\n",
    "indTest"
   ]
  },
  {
   "cell_type": "markdown",
   "id": "c0d541a7",
   "metadata": {
    "id": "c0d541a7"
   },
   "source": [
    "#### <p style=\"background-color:#8CCED1; font-family:newtimeroman; color:#635EA7; font-size:175%; text-align:left; border-radius:10px 10px;\">3. Calculaing P-Value:</p>"
   ]
  },
  {
   "cell_type": "code",
   "execution_count": 33,
   "id": "8ca08e49",
   "metadata": {
    "id": "8ca08e49"
   },
   "outputs": [
    {
     "data": {
      "text/plain": [
       "2.593228732352821e-06"
      ]
     },
     "execution_count": 33,
     "metadata": {},
     "output_type": "execute_result"
    }
   ],
   "source": [
    "p_value = indTest.pvalue\n",
    "p_value"
   ]
  },
  {
   "cell_type": "markdown",
   "id": "f02baf14",
   "metadata": {
    "id": "f02baf14"
   },
   "source": [
    "#### <p style=\"background-color:#8CCED1; font-family:newtimeroman; color:#635EA7; font-size:175%; text-align:left; border-radius:10px 10px;\">4. Making a Decision:</p>"
   ]
  },
  {
   "cell_type": "markdown",
   "id": "0db47276",
   "metadata": {
    "id": "0db47276"
   },
   "source": [
    "<img src=https://i.ibb.co/NCLKcFs/p-value-reject-area.png width=\"400\" height=\"200\">"
   ]
  },
  {
   "cell_type": "code",
   "execution_count": 35,
   "id": "26c0aeab",
   "metadata": {
    "id": "26c0aeab"
   },
   "outputs": [
    {
     "name": "stdout",
     "output_type": "stream",
     "text": [
      "At 0.1 level of significance, we REJECT the null hypothesis in favor of alternative hypothesis.\n"
     ]
    }
   ],
   "source": [
    "alpha = 0.1\n",
    "\n",
    "if p_value < alpha:\n",
    "    print('At {} level of significance, we REJECT the null hypothesis in favor of alternative hypothesis.'.format(alpha))\n",
    "else:\n",
    "    print('At {} level of significance, we FAIL to REJECT the null hypothesis.'.format(alpha))"
   ]
  },
  {
   "cell_type": "markdown",
   "id": "693a345c",
   "metadata": {
    "id": "693a345c"
   },
   "source": [
    "## <p style=\"background-color:#58B8E4; font-family:newtimeroman; color:#49519E; font-size:150%; text-align:left; border-radius:10px 10px;\"> EXERCISE-5:</p>\n",
    "\n",
    "+ The following dataset is based on data provided by the World Bank\n",
    "(https://datacatalog.worldbank.org/dataset/education-statistics). World Bank Edstats.  2015 PISA Test Dataset\n",
    "\n",
    "\n",
    "+ Get descriptive statistics (the central tendency, dispersion and shape of a dataset’s distribution) for each continent\n",
    "group (AS, EU, AF, NA, SA, OC).\n",
    "\n",
    "\n",
    "+ Determine whether there is any difference (on the average) for the math scores among European (EU) and Asian (AS)\n",
    "countries (assume normality and equal variances). Draw side-by-side box plots.\n",
    "\n",
    "\n",
    "+ CHECK: statistic=0.870055317967983, pvalue=0.38826888111307345"
   ]
  },
  {
   "cell_type": "markdown",
   "id": "d0f47547",
   "metadata": {
    "id": "d0f47547"
   },
   "source": [
    "#### <p style=\"background-color:#8CCED1; font-family:newtimeroman; color:#635EA7; font-size:175%; text-align:left; border-radius:10px 10px;\">First Explore the Dataset:</p>\n",
    "\n",
    "Get descriptive statistics (the central tendency, dispersion and shape of a dataset’s distribution) for each continent group (AS, EU, AF, NA, SA, OC).\n",
    "\n",
    "Determine whether there is any difference (on the average) for the math scores among European (EU) and Asian (AS) countries (assume normality and equal variances). Draw side-by-side box plots."
   ]
  },
  {
   "cell_type": "code",
   "execution_count": 37,
   "id": "d2ea74bd",
   "metadata": {
    "id": "d2ea74bd"
   },
   "outputs": [],
   "source": [
    "# Importing necessary libraries\n",
    "import pandas as pd\n",
    "import scipy.stats as stats\n",
    "import matplotlib.pyplot as plt\n",
    "import seaborn as sns\n",
    "\n",
    "# Load the dataset (ensure your file path and file type are correct)\n",
    "# Example:\n",
    "dataset = pd.read_excel(\"2015 PISA Test.xlsx\")\n",
    "\n",
    "# Assuming dataset has columns: 'Continent', 'Math_Score'\n",
    "\n",
    "# Let's check the first few rows of the dataset to confirm its structure\n",
    "# print(dataset.head())  # Uncomment this line to check the data structure"
   ]
  },
  {
   "cell_type": "code",
   "execution_count": 39,
   "id": "6723b0e9-72cc-4087-bf67-b0cffa4c4238",
   "metadata": {
    "scrolled": true
   },
   "outputs": [
    {
     "data": {
      "text/html": [
       "<div>\n",
       "<style scoped>\n",
       "    .dataframe tbody tr th:only-of-type {\n",
       "        vertical-align: middle;\n",
       "    }\n",
       "\n",
       "    .dataframe tbody tr th {\n",
       "        vertical-align: top;\n",
       "    }\n",
       "\n",
       "    .dataframe thead th {\n",
       "        text-align: right;\n",
       "    }\n",
       "</style>\n",
       "<table border=\"1\" class=\"dataframe\">\n",
       "  <thead>\n",
       "    <tr style=\"text-align: right;\">\n",
       "      <th></th>\n",
       "      <th>Country Code</th>\n",
       "      <th>Continent_Code</th>\n",
       "      <th>internet_users_per_100</th>\n",
       "      <th>Math</th>\n",
       "      <th>Reading</th>\n",
       "      <th>Science</th>\n",
       "    </tr>\n",
       "  </thead>\n",
       "  <tbody>\n",
       "    <tr>\n",
       "      <th>0</th>\n",
       "      <td>ALB</td>\n",
       "      <td>EU</td>\n",
       "      <td>63.252933</td>\n",
       "      <td>413.1570</td>\n",
       "      <td>405.2588</td>\n",
       "      <td>427.2250</td>\n",
       "    </tr>\n",
       "    <tr>\n",
       "      <th>1</th>\n",
       "      <td>ARE</td>\n",
       "      <td>AS</td>\n",
       "      <td>90.500000</td>\n",
       "      <td>427.4827</td>\n",
       "      <td>433.5423</td>\n",
       "      <td>436.7311</td>\n",
       "    </tr>\n",
       "    <tr>\n",
       "      <th>2</th>\n",
       "      <td>ARG</td>\n",
       "      <td>SA</td>\n",
       "      <td>68.043064</td>\n",
       "      <td>409.0333</td>\n",
       "      <td>425.3031</td>\n",
       "      <td>432.2262</td>\n",
       "    </tr>\n",
       "    <tr>\n",
       "      <th>3</th>\n",
       "      <td>AUS</td>\n",
       "      <td>OC</td>\n",
       "      <td>84.560519</td>\n",
       "      <td>493.8962</td>\n",
       "      <td>502.9006</td>\n",
       "      <td>509.9939</td>\n",
       "    </tr>\n",
       "    <tr>\n",
       "      <th>4</th>\n",
       "      <td>AUT</td>\n",
       "      <td>EU</td>\n",
       "      <td>83.940142</td>\n",
       "      <td>496.7423</td>\n",
       "      <td>484.8656</td>\n",
       "      <td>495.0375</td>\n",
       "    </tr>\n",
       "    <tr>\n",
       "      <th>...</th>\n",
       "      <td>...</td>\n",
       "      <td>...</td>\n",
       "      <td>...</td>\n",
       "      <td>...</td>\n",
       "      <td>...</td>\n",
       "      <td>...</td>\n",
       "    </tr>\n",
       "    <tr>\n",
       "      <th>65</th>\n",
       "      <td>TUN</td>\n",
       "      <td>AF</td>\n",
       "      <td>48.519836</td>\n",
       "      <td>366.8180</td>\n",
       "      <td>361.0555</td>\n",
       "      <td>386.4034</td>\n",
       "    </tr>\n",
       "    <tr>\n",
       "      <th>66</th>\n",
       "      <td>TUR</td>\n",
       "      <td>EU</td>\n",
       "      <td>53.744979</td>\n",
       "      <td>420.4540</td>\n",
       "      <td>428.3351</td>\n",
       "      <td>425.4895</td>\n",
       "    </tr>\n",
       "    <tr>\n",
       "      <th>67</th>\n",
       "      <td>URY</td>\n",
       "      <td>SA</td>\n",
       "      <td>64.600000</td>\n",
       "      <td>417.9919</td>\n",
       "      <td>436.5721</td>\n",
       "      <td>435.3630</td>\n",
       "    </tr>\n",
       "    <tr>\n",
       "      <th>68</th>\n",
       "      <td>USA</td>\n",
       "      <td>NaN</td>\n",
       "      <td>74.554202</td>\n",
       "      <td>469.6285</td>\n",
       "      <td>496.9351</td>\n",
       "      <td>496.2424</td>\n",
       "    </tr>\n",
       "    <tr>\n",
       "      <th>69</th>\n",
       "      <td>VNM</td>\n",
       "      <td>AS</td>\n",
       "      <td>43.500000</td>\n",
       "      <td>494.5183</td>\n",
       "      <td>486.7738</td>\n",
       "      <td>524.6445</td>\n",
       "    </tr>\n",
       "  </tbody>\n",
       "</table>\n",
       "<p>70 rows × 6 columns</p>\n",
       "</div>"
      ],
      "text/plain": [
       "   Country Code Continent_Code  internet_users_per_100      Math   Reading  \\\n",
       "0           ALB             EU               63.252933  413.1570  405.2588   \n",
       "1           ARE             AS               90.500000  427.4827  433.5423   \n",
       "2           ARG             SA               68.043064  409.0333  425.3031   \n",
       "3           AUS             OC               84.560519  493.8962  502.9006   \n",
       "4           AUT             EU               83.940142  496.7423  484.8656   \n",
       "..          ...            ...                     ...       ...       ...   \n",
       "65          TUN             AF               48.519836  366.8180  361.0555   \n",
       "66          TUR             EU               53.744979  420.4540  428.3351   \n",
       "67          URY             SA               64.600000  417.9919  436.5721   \n",
       "68          USA            NaN               74.554202  469.6285  496.9351   \n",
       "69          VNM             AS               43.500000  494.5183  486.7738   \n",
       "\n",
       "     Science  \n",
       "0   427.2250  \n",
       "1   436.7311  \n",
       "2   432.2262  \n",
       "3   509.9939  \n",
       "4   495.0375  \n",
       "..       ...  \n",
       "65  386.4034  \n",
       "66  425.4895  \n",
       "67  435.3630  \n",
       "68  496.2424  \n",
       "69  524.6445  \n",
       "\n",
       "[70 rows x 6 columns]"
      ]
     },
     "execution_count": 39,
     "metadata": {},
     "output_type": "execute_result"
    }
   ],
   "source": [
    "dataset"
   ]
  },
  {
   "cell_type": "code",
   "execution_count": 41,
   "id": "5d2f5fcb-05b7-41e3-9f75-5eae60cf35de",
   "metadata": {},
   "outputs": [
    {
     "data": {
      "text/html": [
       "<div>\n",
       "<style scoped>\n",
       "    .dataframe tbody tr th:only-of-type {\n",
       "        vertical-align: middle;\n",
       "    }\n",
       "\n",
       "    .dataframe tbody tr th {\n",
       "        vertical-align: top;\n",
       "    }\n",
       "\n",
       "    .dataframe thead th {\n",
       "        text-align: right;\n",
       "    }\n",
       "</style>\n",
       "<table border=\"1\" class=\"dataframe\">\n",
       "  <thead>\n",
       "    <tr style=\"text-align: right;\">\n",
       "      <th></th>\n",
       "      <th>count</th>\n",
       "      <th>mean</th>\n",
       "      <th>std</th>\n",
       "      <th>min</th>\n",
       "      <th>25%</th>\n",
       "      <th>50%</th>\n",
       "      <th>75%</th>\n",
       "      <th>max</th>\n",
       "    </tr>\n",
       "  </thead>\n",
       "  <tbody>\n",
       "    <tr>\n",
       "      <th>Soil1</th>\n",
       "      <td>30.0</td>\n",
       "      <td>1.691800</td>\n",
       "      <td>0.206903</td>\n",
       "      <td>1.110</td>\n",
       "      <td>1.5720</td>\n",
       "      <td>1.675</td>\n",
       "      <td>1.86525</td>\n",
       "      <td>2.054</td>\n",
       "    </tr>\n",
       "    <tr>\n",
       "      <th>Soil2</th>\n",
       "      <td>30.0</td>\n",
       "      <td>1.407633</td>\n",
       "      <td>0.221512</td>\n",
       "      <td>1.053</td>\n",
       "      <td>1.2165</td>\n",
       "      <td>1.376</td>\n",
       "      <td>1.55325</td>\n",
       "      <td>1.878</td>\n",
       "    </tr>\n",
       "  </tbody>\n",
       "</table>\n",
       "</div>"
      ],
      "text/plain": [
       "       count      mean       std    min     25%    50%      75%    max\n",
       "Soil1   30.0  1.691800  0.206903  1.110  1.5720  1.675  1.86525  2.054\n",
       "Soil2   30.0  1.407633  0.221512  1.053  1.2165  1.376  1.55325  1.878"
      ]
     },
     "execution_count": 41,
     "metadata": {},
     "output_type": "execute_result"
    }
   ],
   "source": [
    "df.describe().T"
   ]
  },
  {
   "cell_type": "code",
   "execution_count": 43,
   "id": "54a13963",
   "metadata": {
    "id": "54a13963"
   },
   "outputs": [
    {
     "name": "stdout",
     "output_type": "stream",
     "text": [
      "<class 'pandas.core.frame.DataFrame'>\n",
      "Index: 30 entries, 0 to 29\n",
      "Data columns (total 2 columns):\n",
      " #   Column  Non-Null Count  Dtype  \n",
      "---  ------  --------------  -----  \n",
      " 0   Soil1   30 non-null     float64\n",
      " 1   Soil2   30 non-null     float64\n",
      "dtypes: float64(2)\n",
      "memory usage: 720.0 bytes\n"
     ]
    }
   ],
   "source": [
    "df.info()"
   ]
  },
  {
   "cell_type": "code",
   "execution_count": 47,
   "id": "da56df64",
   "metadata": {
    "id": "da56df64"
   },
   "outputs": [
    {
     "data": {
      "text/plain": [
       "Continent_Code\n",
       "EU     37\n",
       "AS     17\n",
       "SA      7\n",
       "NaN     5\n",
       "OC      2\n",
       "AF      2\n",
       "Name: count, dtype: int64"
      ]
     },
     "execution_count": 47,
     "metadata": {},
     "output_type": "execute_result"
    }
   ],
   "source": [
    "dataset.Continent_Code.value_counts(dropna=False)"
   ]
  },
  {
   "cell_type": "code",
   "execution_count": null,
   "id": "e0f16e77",
   "metadata": {
    "id": "e0f16e77"
   },
   "outputs": [],
   "source": []
  },
  {
   "cell_type": "code",
   "execution_count": null,
   "id": "8671a18c",
   "metadata": {
    "id": "8671a18c"
   },
   "outputs": [],
   "source": []
  },
  {
   "cell_type": "code",
   "execution_count": null,
   "id": "4f417381",
   "metadata": {
    "id": "4f417381"
   },
   "outputs": [],
   "source": []
  },
  {
   "cell_type": "code",
   "execution_count": null,
   "id": "718ece1d",
   "metadata": {
    "id": "718ece1d"
   },
   "outputs": [],
   "source": []
  },
  {
   "cell_type": "code",
   "execution_count": null,
   "id": "20768b5a",
   "metadata": {
    "id": "20768b5a"
   },
   "outputs": [],
   "source": []
  },
  {
   "cell_type": "markdown",
   "id": "d9a5d66c",
   "metadata": {
    "id": "d9a5d66c"
   },
   "source": [
    "#### <p style=\"background-color:#8CCED1; font-family:newtimeroman; color:#635EA7; font-size:175%; text-align:left; border-radius:10px 10px;\">Exploring EU & ASIAN Countries:</p>\n",
    "\n",
    "Determine whether there is any difference (on the average) for the math scores among European (EU) and Asian (AS) countries (assume normality and equal variances). Draw side-by-side box plots. CHECK: statistic=0.870055317967983, pvalue=0.38826888111307345"
   ]
  },
  {
   "cell_type": "code",
   "execution_count": 49,
   "id": "f5eb20f2",
   "metadata": {
    "id": "f5eb20f2"
   },
   "outputs": [
    {
     "data": {
      "text/plain": [
       "Index(['Soil1', 'Soil2'], dtype='object')"
      ]
     },
     "execution_count": 49,
     "metadata": {},
     "output_type": "execute_result"
    }
   ],
   "source": [
    "df.columns"
   ]
  },
  {
   "cell_type": "code",
   "execution_count": 53,
   "id": "9e1e541a",
   "metadata": {
    "id": "9e1e541a"
   },
   "outputs": [
    {
     "data": {
      "text/html": [
       "<div>\n",
       "<style scoped>\n",
       "    .dataframe tbody tr th:only-of-type {\n",
       "        vertical-align: middle;\n",
       "    }\n",
       "\n",
       "    .dataframe tbody tr th {\n",
       "        vertical-align: top;\n",
       "    }\n",
       "\n",
       "    .dataframe thead th {\n",
       "        text-align: right;\n",
       "    }\n",
       "</style>\n",
       "<table border=\"1\" class=\"dataframe\">\n",
       "  <thead>\n",
       "    <tr style=\"text-align: right;\">\n",
       "      <th></th>\n",
       "      <th>Country Code</th>\n",
       "      <th>Continent_Code</th>\n",
       "      <th>Math</th>\n",
       "    </tr>\n",
       "  </thead>\n",
       "  <tbody>\n",
       "    <tr>\n",
       "      <th>0</th>\n",
       "      <td>ALB</td>\n",
       "      <td>EU</td>\n",
       "      <td>413.1570</td>\n",
       "    </tr>\n",
       "    <tr>\n",
       "      <th>1</th>\n",
       "      <td>ARE</td>\n",
       "      <td>AS</td>\n",
       "      <td>427.4827</td>\n",
       "    </tr>\n",
       "    <tr>\n",
       "      <th>4</th>\n",
       "      <td>AUT</td>\n",
       "      <td>EU</td>\n",
       "      <td>496.7423</td>\n",
       "    </tr>\n",
       "    <tr>\n",
       "      <th>5</th>\n",
       "      <td>BEL</td>\n",
       "      <td>EU</td>\n",
       "      <td>506.9844</td>\n",
       "    </tr>\n",
       "    <tr>\n",
       "      <th>6</th>\n",
       "      <td>BGR</td>\n",
       "      <td>EU</td>\n",
       "      <td>441.1899</td>\n",
       "    </tr>\n",
       "    <tr>\n",
       "      <th>9</th>\n",
       "      <td>CHE</td>\n",
       "      <td>EU</td>\n",
       "      <td>521.2506</td>\n",
       "    </tr>\n",
       "    <tr>\n",
       "      <th>11</th>\n",
       "      <td>CHN</td>\n",
       "      <td>AS</td>\n",
       "      <td>531.2961</td>\n",
       "    </tr>\n",
       "    <tr>\n",
       "      <th>14</th>\n",
       "      <td>CYP</td>\n",
       "      <td>EU</td>\n",
       "      <td>437.1443</td>\n",
       "    </tr>\n",
       "    <tr>\n",
       "      <th>15</th>\n",
       "      <td>CZE</td>\n",
       "      <td>EU</td>\n",
       "      <td>492.3254</td>\n",
       "    </tr>\n",
       "    <tr>\n",
       "      <th>16</th>\n",
       "      <td>DEU</td>\n",
       "      <td>EU</td>\n",
       "      <td>505.9713</td>\n",
       "    </tr>\n",
       "    <tr>\n",
       "      <th>17</th>\n",
       "      <td>DNK</td>\n",
       "      <td>EU</td>\n",
       "      <td>511.0876</td>\n",
       "    </tr>\n",
       "    <tr>\n",
       "      <th>20</th>\n",
       "      <td>ESP</td>\n",
       "      <td>EU</td>\n",
       "      <td>485.8432</td>\n",
       "    </tr>\n",
       "    <tr>\n",
       "      <th>21</th>\n",
       "      <td>EST</td>\n",
       "      <td>EU</td>\n",
       "      <td>519.5291</td>\n",
       "    </tr>\n",
       "    <tr>\n",
       "      <th>22</th>\n",
       "      <td>FIN</td>\n",
       "      <td>EU</td>\n",
       "      <td>511.0769</td>\n",
       "    </tr>\n",
       "    <tr>\n",
       "      <th>23</th>\n",
       "      <td>FRA</td>\n",
       "      <td>EU</td>\n",
       "      <td>492.9204</td>\n",
       "    </tr>\n",
       "    <tr>\n",
       "      <th>24</th>\n",
       "      <td>GBR</td>\n",
       "      <td>EU</td>\n",
       "      <td>492.4785</td>\n",
       "    </tr>\n",
       "    <tr>\n",
       "      <th>25</th>\n",
       "      <td>GEO</td>\n",
       "      <td>AS</td>\n",
       "      <td>403.8332</td>\n",
       "    </tr>\n",
       "    <tr>\n",
       "      <th>26</th>\n",
       "      <td>GRC</td>\n",
       "      <td>EU</td>\n",
       "      <td>453.6299</td>\n",
       "    </tr>\n",
       "    <tr>\n",
       "      <th>27</th>\n",
       "      <td>HKG</td>\n",
       "      <td>AS</td>\n",
       "      <td>547.9310</td>\n",
       "    </tr>\n",
       "    <tr>\n",
       "      <th>28</th>\n",
       "      <td>HRV</td>\n",
       "      <td>EU</td>\n",
       "      <td>464.0401</td>\n",
       "    </tr>\n",
       "    <tr>\n",
       "      <th>29</th>\n",
       "      <td>HUN</td>\n",
       "      <td>EU</td>\n",
       "      <td>476.8309</td>\n",
       "    </tr>\n",
       "    <tr>\n",
       "      <th>30</th>\n",
       "      <td>IDN</td>\n",
       "      <td>AS</td>\n",
       "      <td>386.1096</td>\n",
       "    </tr>\n",
       "    <tr>\n",
       "      <th>31</th>\n",
       "      <td>IRL</td>\n",
       "      <td>EU</td>\n",
       "      <td>503.7220</td>\n",
       "    </tr>\n",
       "    <tr>\n",
       "      <th>32</th>\n",
       "      <td>ISL</td>\n",
       "      <td>EU</td>\n",
       "      <td>488.0332</td>\n",
       "    </tr>\n",
       "    <tr>\n",
       "      <th>33</th>\n",
       "      <td>ISR</td>\n",
       "      <td>AS</td>\n",
       "      <td>469.6695</td>\n",
       "    </tr>\n",
       "    <tr>\n",
       "      <th>34</th>\n",
       "      <td>ITA</td>\n",
       "      <td>EU</td>\n",
       "      <td>489.7287</td>\n",
       "    </tr>\n",
       "    <tr>\n",
       "      <th>35</th>\n",
       "      <td>JOR</td>\n",
       "      <td>AS</td>\n",
       "      <td>380.2590</td>\n",
       "    </tr>\n",
       "    <tr>\n",
       "      <th>36</th>\n",
       "      <td>JPN</td>\n",
       "      <td>AS</td>\n",
       "      <td>532.4399</td>\n",
       "    </tr>\n",
       "    <tr>\n",
       "      <th>37</th>\n",
       "      <td>KAZ</td>\n",
       "      <td>AS</td>\n",
       "      <td>459.8160</td>\n",
       "    </tr>\n",
       "    <tr>\n",
       "      <th>38</th>\n",
       "      <td>KOR</td>\n",
       "      <td>AS</td>\n",
       "      <td>524.1062</td>\n",
       "    </tr>\n",
       "    <tr>\n",
       "      <th>39</th>\n",
       "      <td>LBN</td>\n",
       "      <td>AS</td>\n",
       "      <td>396.2497</td>\n",
       "    </tr>\n",
       "    <tr>\n",
       "      <th>40</th>\n",
       "      <td>LTU</td>\n",
       "      <td>EU</td>\n",
       "      <td>478.3834</td>\n",
       "    </tr>\n",
       "    <tr>\n",
       "      <th>41</th>\n",
       "      <td>LUX</td>\n",
       "      <td>EU</td>\n",
       "      <td>485.7706</td>\n",
       "    </tr>\n",
       "    <tr>\n",
       "      <th>42</th>\n",
       "      <td>LVA</td>\n",
       "      <td>EU</td>\n",
       "      <td>482.3051</td>\n",
       "    </tr>\n",
       "    <tr>\n",
       "      <th>43</th>\n",
       "      <td>MAC</td>\n",
       "      <td>AS</td>\n",
       "      <td>543.8078</td>\n",
       "    </tr>\n",
       "    <tr>\n",
       "      <th>44</th>\n",
       "      <td>MDA</td>\n",
       "      <td>EU</td>\n",
       "      <td>419.6635</td>\n",
       "    </tr>\n",
       "    <tr>\n",
       "      <th>46</th>\n",
       "      <td>MKD</td>\n",
       "      <td>EU</td>\n",
       "      <td>371.3114</td>\n",
       "    </tr>\n",
       "    <tr>\n",
       "      <th>47</th>\n",
       "      <td>MLT</td>\n",
       "      <td>EU</td>\n",
       "      <td>478.6448</td>\n",
       "    </tr>\n",
       "    <tr>\n",
       "      <th>48</th>\n",
       "      <td>MNE</td>\n",
       "      <td>EU</td>\n",
       "      <td>417.9341</td>\n",
       "    </tr>\n",
       "    <tr>\n",
       "      <th>49</th>\n",
       "      <td>MYS</td>\n",
       "      <td>AS</td>\n",
       "      <td>446.1098</td>\n",
       "    </tr>\n",
       "    <tr>\n",
       "      <th>50</th>\n",
       "      <td>NLD</td>\n",
       "      <td>EU</td>\n",
       "      <td>512.2528</td>\n",
       "    </tr>\n",
       "    <tr>\n",
       "      <th>51</th>\n",
       "      <td>NOR</td>\n",
       "      <td>EU</td>\n",
       "      <td>501.7298</td>\n",
       "    </tr>\n",
       "    <tr>\n",
       "      <th>54</th>\n",
       "      <td>POL</td>\n",
       "      <td>EU</td>\n",
       "      <td>504.4693</td>\n",
       "    </tr>\n",
       "    <tr>\n",
       "      <th>55</th>\n",
       "      <td>PRT</td>\n",
       "      <td>EU</td>\n",
       "      <td>491.6270</td>\n",
       "    </tr>\n",
       "    <tr>\n",
       "      <th>56</th>\n",
       "      <td>QAT</td>\n",
       "      <td>AS</td>\n",
       "      <td>402.4007</td>\n",
       "    </tr>\n",
       "    <tr>\n",
       "      <th>57</th>\n",
       "      <td>ROU</td>\n",
       "      <td>EU</td>\n",
       "      <td>443.9543</td>\n",
       "    </tr>\n",
       "    <tr>\n",
       "      <th>58</th>\n",
       "      <td>RUS</td>\n",
       "      <td>EU</td>\n",
       "      <td>494.0600</td>\n",
       "    </tr>\n",
       "    <tr>\n",
       "      <th>59</th>\n",
       "      <td>SGP</td>\n",
       "      <td>AS</td>\n",
       "      <td>564.1897</td>\n",
       "    </tr>\n",
       "    <tr>\n",
       "      <th>60</th>\n",
       "      <td>SVK</td>\n",
       "      <td>EU</td>\n",
       "      <td>475.2301</td>\n",
       "    </tr>\n",
       "    <tr>\n",
       "      <th>61</th>\n",
       "      <td>SVN</td>\n",
       "      <td>EU</td>\n",
       "      <td>509.9196</td>\n",
       "    </tr>\n",
       "    <tr>\n",
       "      <th>62</th>\n",
       "      <td>SWE</td>\n",
       "      <td>EU</td>\n",
       "      <td>493.9181</td>\n",
       "    </tr>\n",
       "    <tr>\n",
       "      <th>63</th>\n",
       "      <td>THA</td>\n",
       "      <td>AS</td>\n",
       "      <td>415.4638</td>\n",
       "    </tr>\n",
       "    <tr>\n",
       "      <th>66</th>\n",
       "      <td>TUR</td>\n",
       "      <td>EU</td>\n",
       "      <td>420.4540</td>\n",
       "    </tr>\n",
       "    <tr>\n",
       "      <th>69</th>\n",
       "      <td>VNM</td>\n",
       "      <td>AS</td>\n",
       "      <td>494.5183</td>\n",
       "    </tr>\n",
       "  </tbody>\n",
       "</table>\n",
       "</div>"
      ],
      "text/plain": [
       "   Country Code Continent_Code      Math\n",
       "0           ALB             EU  413.1570\n",
       "1           ARE             AS  427.4827\n",
       "4           AUT             EU  496.7423\n",
       "5           BEL             EU  506.9844\n",
       "6           BGR             EU  441.1899\n",
       "9           CHE             EU  521.2506\n",
       "11          CHN             AS  531.2961\n",
       "14          CYP             EU  437.1443\n",
       "15          CZE             EU  492.3254\n",
       "16          DEU             EU  505.9713\n",
       "17          DNK             EU  511.0876\n",
       "20          ESP             EU  485.8432\n",
       "21          EST             EU  519.5291\n",
       "22          FIN             EU  511.0769\n",
       "23          FRA             EU  492.9204\n",
       "24          GBR             EU  492.4785\n",
       "25          GEO             AS  403.8332\n",
       "26          GRC             EU  453.6299\n",
       "27          HKG             AS  547.9310\n",
       "28          HRV             EU  464.0401\n",
       "29          HUN             EU  476.8309\n",
       "30          IDN             AS  386.1096\n",
       "31          IRL             EU  503.7220\n",
       "32          ISL             EU  488.0332\n",
       "33          ISR             AS  469.6695\n",
       "34          ITA             EU  489.7287\n",
       "35          JOR             AS  380.2590\n",
       "36          JPN             AS  532.4399\n",
       "37          KAZ             AS  459.8160\n",
       "38          KOR             AS  524.1062\n",
       "39          LBN             AS  396.2497\n",
       "40          LTU             EU  478.3834\n",
       "41          LUX             EU  485.7706\n",
       "42          LVA             EU  482.3051\n",
       "43          MAC             AS  543.8078\n",
       "44          MDA             EU  419.6635\n",
       "46          MKD             EU  371.3114\n",
       "47          MLT             EU  478.6448\n",
       "48          MNE             EU  417.9341\n",
       "49          MYS             AS  446.1098\n",
       "50          NLD             EU  512.2528\n",
       "51          NOR             EU  501.7298\n",
       "54          POL             EU  504.4693\n",
       "55          PRT             EU  491.6270\n",
       "56          QAT             AS  402.4007\n",
       "57          ROU             EU  443.9543\n",
       "58          RUS             EU  494.0600\n",
       "59          SGP             AS  564.1897\n",
       "60          SVK             EU  475.2301\n",
       "61          SVN             EU  509.9196\n",
       "62          SWE             EU  493.9181\n",
       "63          THA             AS  415.4638\n",
       "66          TUR             EU  420.4540\n",
       "69          VNM             AS  494.5183"
      ]
     },
     "execution_count": 53,
     "metadata": {},
     "output_type": "execute_result"
    }
   ],
   "source": [
    "df_euroasia = dataset.loc[(dataset.Continent_Code == \"EU\") | (dataset.Continent_Code == \"AS\")][[\"Country Code\", \"Continent_Code\", \"Math\"]]\n",
    "df_euroasia"
   ]
  },
  {
   "cell_type": "code",
   "execution_count": null,
   "id": "1876b915",
   "metadata": {
    "id": "1876b915"
   },
   "outputs": [],
   "source": []
  },
  {
   "cell_type": "code",
   "execution_count": null,
   "id": "2e767a85",
   "metadata": {
    "id": "2e767a85"
   },
   "outputs": [],
   "source": []
  },
  {
   "cell_type": "markdown",
   "id": "e1bade48",
   "metadata": {
    "id": "e1bade48"
   },
   "source": [
    "#### <p style=\"background-color:#8CCED1; font-family:newtimeroman; color:#635EA7; font-size:175%; text-align:left; border-radius:10px 10px;\">1. Stating Null (H0) & Alternative (Ha) Hypotheses:</p>"
   ]
  },
  {
   "cell_type": "raw",
   "id": "dc63b3f6",
   "metadata": {
    "id": "dc63b3f6"
   },
   "source": [
    "H0: mu1 = mu2\n",
    "H1: mu1 != mu2\n",
    "\n",
    "H0: The population variances are equal\n",
    "H1: There is a difference between the variances in the population\n",
    "\n",
    "H0: Europe Math and Asia Math scores are SAME wit respect to average scores\n",
    "H1: There is a difference between Europe Math and Asia Math scores"
   ]
  },
  {
   "cell_type": "markdown",
   "id": "8c8950bb",
   "metadata": {
    "id": "8c8950bb"
   },
   "source": [
    "#### <p style=\"background-color:#8CCED1; font-family:newtimeroman; color:#635EA7; font-size:175%; text-align:left; border-radius:10px 10px;\">2. Calculating Test Statistics:</p>"
   ]
  },
  {
   "cell_type": "code",
   "execution_count": 69,
   "id": "481df556-4f8f-439b-a7bc-db579ff58a47",
   "metadata": {},
   "outputs": [
    {
     "data": {
      "text/plain": [
       "0     413.1570\n",
       "4     496.7423\n",
       "5     506.9844\n",
       "6     441.1899\n",
       "9     521.2506\n",
       "14    437.1443\n",
       "15    492.3254\n",
       "16    505.9713\n",
       "17    511.0876\n",
       "20    485.8432\n",
       "21    519.5291\n",
       "22    511.0769\n",
       "23    492.9204\n",
       "24    492.4785\n",
       "26    453.6299\n",
       "28    464.0401\n",
       "29    476.8309\n",
       "31    503.7220\n",
       "32    488.0332\n",
       "34    489.7287\n",
       "40    478.3834\n",
       "41    485.7706\n",
       "42    482.3051\n",
       "44    419.6635\n",
       "46    371.3114\n",
       "47    478.6448\n",
       "48    417.9341\n",
       "50    512.2528\n",
       "51    501.7298\n",
       "54    504.4693\n",
       "55    491.6270\n",
       "57    443.9543\n",
       "58    494.0600\n",
       "60    475.2301\n",
       "61    509.9196\n",
       "62    493.9181\n",
       "66    420.4540\n",
       "Name: Math, dtype: float64"
      ]
     },
     "execution_count": 69,
     "metadata": {},
     "output_type": "execute_result"
    }
   ],
   "source": [
    "EU_math = dataset.loc[(dataset.Continent_Code == \"EU\")][\"Math\"]\n",
    "EU_math"
   ]
  },
  {
   "cell_type": "code",
   "execution_count": 73,
   "id": "984343ee-fd0d-4378-a30e-3234b230ebc8",
   "metadata": {},
   "outputs": [
    {
     "data": {
      "text/plain": [
       "1     427.4827\n",
       "11    531.2961\n",
       "25    403.8332\n",
       "27    547.9310\n",
       "30    386.1096\n",
       "33    469.6695\n",
       "35    380.2590\n",
       "36    532.4399\n",
       "37    459.8160\n",
       "38    524.1062\n",
       "39    396.2497\n",
       "43    543.8078\n",
       "49    446.1098\n",
       "56    402.4007\n",
       "59    564.1897\n",
       "63    415.4638\n",
       "69    494.5183\n",
       "Name: Math, dtype: float64"
      ]
     },
     "execution_count": 73,
     "metadata": {},
     "output_type": "execute_result"
    }
   ],
   "source": [
    "AS_math = dataset.loc[(dataset.Continent_Code == \"AS\")][\"Math\"]\n",
    "AS_math"
   ]
  },
  {
   "cell_type": "code",
   "execution_count": 75,
   "id": "a372a194",
   "metadata": {
    "id": "a372a194"
   },
   "outputs": [
    {
     "data": {
      "text/plain": [
       "TtestResult(statistic=0.8700553179679789, pvalue=0.38826888111307556, df=52.0)"
      ]
     },
     "execution_count": 75,
     "metadata": {},
     "output_type": "execute_result"
    }
   ],
   "source": [
    "indTest = stats.ttest_ind(EU_math,\n",
    "                          AS_math,\n",
    "                          equal_var=True,\n",
    "                          alternative='two-sided')\n",
    "indTest"
   ]
  },
  {
   "cell_type": "markdown",
   "id": "3bc99304",
   "metadata": {
    "id": "3bc99304"
   },
   "source": [
    "#### <p style=\"background-color:#8CCED1; font-family:newtimeroman; color:#635EA7; font-size:175%; text-align:left; border-radius:10px 10px;\">3. Calculaing P-Value:</p>"
   ]
  },
  {
   "cell_type": "code",
   "execution_count": 105,
   "id": "7f9a9686",
   "metadata": {
    "id": "7f9a9686"
   },
   "outputs": [
    {
     "data": {
      "text/plain": [
       "2.593228732352821e-06"
      ]
     },
     "execution_count": 105,
     "metadata": {},
     "output_type": "execute_result"
    }
   ],
   "source": [
    "p_value = indTest.pvalue\n",
    "p_value"
   ]
  },
  {
   "cell_type": "markdown",
   "id": "bda5e9e0",
   "metadata": {
    "id": "bda5e9e0"
   },
   "source": [
    "#### <p style=\"background-color:#8CCED1; font-family:newtimeroman; color:#635EA7; font-size:175%; text-align:left; border-radius:10px 10px;\">4. Making a Decision:</p>"
   ]
  },
  {
   "cell_type": "markdown",
   "id": "26db0542",
   "metadata": {
    "id": "26db0542"
   },
   "source": [
    "<img src=https://i.ibb.co/NCLKcFs/p-value-reject-area.png width=\"400\" height=\"200\">"
   ]
  },
  {
   "cell_type": "code",
   "execution_count": 107,
   "id": "6958c9e1",
   "metadata": {
    "id": "6958c9e1"
   },
   "outputs": [
    {
     "name": "stdout",
     "output_type": "stream",
     "text": [
      "At 0.05 level of significance, we REJECT the null hypothesis in favor of alternative hypothesis.\n"
     ]
    }
   ],
   "source": [
    "alpha = 0.05\n",
    "\n",
    "if p_value < alpha:\n",
    "    print('At {} level of significance, we REJECT the null hypothesis in favor of alternative hypothesis.'.format(alpha))\n",
    "else:\n",
    "    print('At {} level of significance, we FAIL to REJECT the null hypothesis.'.format(alpha))"
   ]
  },
  {
   "cell_type": "markdown",
   "id": "5d471b5d",
   "metadata": {
    "id": "5d471b5d"
   },
   "source": [
    "#### <p style=\"background-color:#8CCED1; font-family:newtimeroman; color:#635EA7; font-size:175%; text-align:left; border-radius:10px 10px;\">Visualization:</p>"
   ]
  },
  {
   "cell_type": "code",
   "execution_count": 83,
   "id": "39c34659",
   "metadata": {
    "id": "39c34659"
   },
   "outputs": [],
   "source": [
    "x = df_euroasia[\"Continent_Code\"]\n",
    "y = df_euroasia[\"Math\"]"
   ]
  },
  {
   "cell_type": "code",
   "execution_count": 85,
   "id": "d58b9bad-6179-46d0-af49-215af4f2cc66",
   "metadata": {},
   "outputs": [],
   "source": [
    "import seaborn as sns "
   ]
  },
  {
   "cell_type": "code",
   "execution_count": 93,
   "id": "96b4f4f7-894a-4431-bd35-2f64bf323fc4",
   "metadata": {},
   "outputs": [
    {
     "data": {
      "text/plain": [
       "<Axes: xlabel='Continent_Code', ylabel='Math'>"
      ]
     },
     "execution_count": 93,
     "metadata": {},
     "output_type": "execute_result"
    },
    {
     "data": {
      "image/png": "[encoded data removed]",
      "text/plain": [
       "<Figure size 640x480 with 1 Axes>"
      ]
     },
     "metadata": {},
     "output_type": "display_data"
    }
   ],
   "source": [
    "sns.barplot(x=x,y=y)"
   ]
  },
  {
   "cell_type": "code",
   "execution_count": 87,
   "id": "f9ac98f7",
   "metadata": {
    "id": "f9ac98f7"
   },
   "outputs": [],
   "source": [
    "x = df_euroasia[\"Continent_Code\"]\n",
    "y = df_euroasia[\"Math\"]"
   ]
  },
  {
   "cell_type": "markdown",
   "id": "0131e8ed",
   "metadata": {
    "id": "0131e8ed"
   },
   "source": [
    "## <p style=\"background-color:#8CCED1; font-family:newtimeroman; color:#49519E; font-size:150%; text-align:center; border-radius:10px 10px;\">END OF THE ASSIGNMENT-02</p>\n",
    "\n",
    "# Now. it's time to relax!\n",
    "\n",
    "![Image_Assignment](https://i.ibb.co/QF5G0yf/reading-books-1110x600.png)\n",
    "[Image Credit](https://booksunlimited.ie/how-to-make-time-for-reading-books-in-a-busy-schedule/)\n",
    "\n",
    "<p style=\"text-align: center;\"><img src=\"https://i.ibb.co/mR462SV/ONDIA-courses-logo.jpg\" class=\"img-fluid\"\n",
    "alt=\"ONDIA\"></p>"
   ]
  },
  {
   "cell_type": "markdown",
   "id": "db41988f",
   "metadata": {
    "deletable": false,
    "editable": false,
    "id": "db41988f"
   },
   "source": [
    "<a href=\"https://ondiande.com/contact/\"><img align=\"center\" src=\"https://i.ibb.co/B43qn24/officially-licensed-logo.png\" alt=\"ONDIA Contact\" width=\"110\" height=\"200\" title=\"This notebook is licensed by ONDIA. Please contact the authorized persons about the conditions under which you can use or share.\"></a>"
   ]
  }
 ],
 "metadata": {
  "colab": {
   "provenance": []
  },
  "kernelspec": {
   "display_name": "Python [conda env:base] *",
   "language": "python",
   "name": "conda-base-py"
  },
  "language_info": {
   "codemirror_mode": {
    "name": "ipython",
    "version": 3
   },
   "file_extension": ".py",
   "mimetype": "text/x-python",
   "name": "python",
   "nbconvert_exporter": "python",
   "pygments_lexer": "ipython3",
   "version": "3.12.7"
  },
  "toc": {
   "base_numbering": "",
   "nav_menu": {},
   "number_sections": false,
   "sideBar": true,
   "skip_h1_title": false,
   "title_cell": "Table of Contents",
   "title_sidebar": "Contents",
   "toc_cell": false,
   "toc_position": {
    "height": "calc(100% - 180px)",
    "left": "10px",
    "top": "150px",
    "width": "307.2px"
   },
   "toc_section_display": true,
   "toc_window_display": true
  },
  "varInspector": {
   "cols": {
    "lenName": 16,
    "lenType": 16,
    "lenVar": 40
   },
   "kernels_config": {
    "python": {
     "delete_cmd_postfix": "",
     "delete_cmd_prefix": "del ",
     "library": "var_list.py",
     "varRefreshCmd": "print(var_dic_list())"
    },
    "r": {
     "delete_cmd_postfix": ") ",
     "delete_cmd_prefix": "rm(",
     "library": "var_list.r",
     "varRefreshCmd": "cat(var_dic_list()) "
    }
   },
   "types_to_exclude": [
    "module",
    "function",
    "builtin_function_or_method",
    "instance",
    "_Feature"
   ],
   "window_display": false
  }
 },
 "nbformat": 4,
 "nbformat_minor": 5
}
